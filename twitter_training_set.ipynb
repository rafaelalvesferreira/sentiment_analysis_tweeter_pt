{
 "cells": [
  {
   "cell_type": "code",
   "execution_count": 1,
   "metadata": {},
   "outputs": [],
   "source": [
    "# Rode o código se precisar instalar o snscrape\n",
    "#%pip install git+https://github.com/JustAnotherArchivist/snscrape.git\n",
    "\n",
    "# Rode esse código se precisar instalar o Pandas\n",
    "# !pip install pandas"
   ]
  },
  {
   "cell_type": "code",
   "execution_count": 1,
   "metadata": {},
   "outputs": [],
   "source": [
    "# Imports\n",
    "import snscrape.modules.twitter as sntwitter\n",
    "import pandas as pd\n",
    "import datetime as dt\n"
   ]
  },
  {
   "cell_type": "code",
   "execution_count": 2,
   "metadata": {},
   "outputs": [],
   "source": [
    "def ScrapTweets(max_tweets: int, search_string: str):\n",
    "    # Definindo o máximo de tweets\n",
    "    maxTweets = max_tweets\n",
    "\n",
    "    # Criando a lista para salvar os dados\n",
    "    tweets_list = []\n",
    "\n",
    "    # Usando o TwitterSearchScraper para fazer o scrape dos dados data e salvar em uma lista\n",
    "    for i, tweet in enumerate(\n",
    "        sntwitter.TwitterSearchScraper(search_string).get_items()\n",
    "    ):\n",
    "        if i > maxTweets:\n",
    "            break\n",
    "        tweets_list.append(\n",
    "            [\n",
    "                tweet.id,\n",
    "                tweet.date,\n",
    "                tweet.rawContent,\n",
    "                tweet.lang,\n",
    "            ]\n",
    "        )\n",
    "    # Criando um dataframe com os dados\n",
    "    tweets_df = pd.DataFrame(\n",
    "        tweets_list,\n",
    "        columns=[\n",
    "            \"TweetId\",\n",
    "            \"DataHora\",\n",
    "            \"Texto\",\n",
    "            \"Idioma\",\n",
    "        ],\n",
    "    )\n",
    "    # Adicionando a coluna de data, mês e hora\n",
    "    tweets_df[\"dia\"] = tweets_df.DataHora.dt.day\n",
    "    tweets_df[\"mes\"] = tweets_df.DataHora.dt.month\n",
    "    tweets_df[\"ano\"] = tweets_df.DataHora.dt.year\n",
    "\n",
    "    return tweets_df\n"
   ]
  },
  {
   "cell_type": "code",
   "execution_count": 38,
   "metadata": {},
   "outputs": [],
   "source": [
    "# Na string de busca você pode usar ou omitir os marcadores from e until\n",
    "# Exemplo:  'rockinrio from:anitta until:2020-07-31'\n",
    "\n",
    "tweets_triste = ScrapTweets(50000, \"#triste\")\n",
    "tweets_triste[\"emocao\"] = \"triste\"\n",
    "\n",
    "tweets_chateado = ScrapTweets(25000, \"#chateado\")\n",
    "tweets_chateado[\"emocao\"] = \"chateado\"\n",
    "\n",
    "tweets_chateada = ScrapTweets(25000, \"#chateada\")\n",
    "tweets_chateada[\"emocao\"] = \"chateado\"\n",
    "\n",
    "tweets_feliz = ScrapTweets(50000, \"#feliz\")\n",
    "tweets_feliz[\"emocao\"] = \"feliz\"\n",
    "\n",
    "tweets_amor = ScrapTweets(50000, \"#amor\")\n",
    "tweets_amor[\"emocao\"] = \"amor\"\n",
    "\n",
    "tweets_raiva = ScrapTweets(50000, \"#raiva\")\n",
    "tweets_raiva[\"emocao\"] = \"raiva\"\n",
    "\n",
    "tweets_inveja = ScrapTweets(50000, \"#inveja\")\n",
    "tweets_inveja[\"emocao\"] = \"inveja\"\n",
    "\n",
    "tweets_ironia = ScrapTweets(50000, \"#ironia\")\n",
    "tweets_ironia[\"emocao\"] = \"ironia\"\n",
    "\n",
    "tweets = pd.concat(\n",
    "    [\n",
    "        tweets_triste,\n",
    "        tweets_chateado,\n",
    "        tweets_chateada,\n",
    "        tweets_feliz,\n",
    "        tweets_amor,\n",
    "        tweets_raiva,\n",
    "        tweets_inveja,\n",
    "        tweets_ironia,\n",
    "    ]\n",
    ")\n",
    "\n",
    "# Exportar dataframe para CSV\n",
    "tweets.to_csv(\"text-query-tweets.csv\", sep=\",\", index=False)\n"
   ]
  },
  {
   "cell_type": "code",
   "execution_count": 13,
   "metadata": {},
   "outputs": [
    {
     "name": "stderr",
     "output_type": "stream",
     "text": [
      "/opt/miniconda3/envs/fast/lib/python3.9/site-packages/IPython/core/interactiveshell.py:3135: DtypeWarning: Columns (0,5) have mixed types.Specify dtype option on import or set low_memory=False.\n",
      "  has_raised = await self.run_ast_nodes(code_ast.body, cell_name,\n"
     ]
    }
   ],
   "source": [
    "# tweets = pd.read_csv(\"text-query-tweets.csv\", sep=\",\")\n",
    "# tweets.head()\n",
    "tweets = pd.read_csv(\"text-query-tweets.csv\", sep=\",\")"
   ]
  },
  {
   "cell_type": "code",
   "execution_count": 14,
   "metadata": {},
   "outputs": [
    {
     "name": "stderr",
     "output_type": "stream",
     "text": [
      "<ipython-input-14-f37810fb9b6f>:11: FutureWarning: The default value of regex will change from True to False in a future version.\n",
      "  tweets['Texto'] = tweets['Texto'].str.replace(r'#\\S+', '', case=False)\n",
      "<ipython-input-14-f37810fb9b6f>:12: FutureWarning: The default value of regex will change from True to False in a future version.\n",
      "  tweets['Texto'] = tweets['Texto'].str.replace(r'@\\S+', '', case=False)\n",
      "<ipython-input-14-f37810fb9b6f>:13: FutureWarning: The default value of regex will change from True to False in a future version.\n",
      "  tweets['Texto'] = tweets['Texto'].str.replace(r'http\\S+', '', case=False)\n"
     ]
    }
   ],
   "source": [
    "#removendo duplicatas\n",
    "tweets.drop_duplicates(subset =\"TweetId\", keep = False, inplace = True)\n",
    "\n",
    "# Filtrando o idimoa para português\n",
    "tweets = tweets[tweets['Idioma'] == 'pt']\n",
    "\n",
    "# Removendo colunas desnecessárias\n",
    "tweets.drop(['TweetId', 'DataHora', 'Idioma', 'dia', 'mes', 'ano'], axis=1, inplace=True)\n",
    "\n",
    "# Removendo os Hashtags, links e usuários\n",
    "tweets['Texto'] = tweets['Texto'].str.replace(r'#\\S+', '', case=False)\n",
    "tweets['Texto'] = tweets['Texto'].str.replace(r'@\\S+', '', case=False)\n",
    "tweets['Texto'] = tweets['Texto'].str.replace(r'http\\S+', '', case=False)\n",
    "\n",
    "# Removendo as marcações de paragrafos\n",
    "tweets['Texto'] = tweets['Texto'].str.replace('\\n', ' ', case=False)\n",
    "\n",
    "tweets.reset_index(drop=True, inplace=True)\n",
    "\n",
    "# tweets.to_csv(\"naive_bayes_dataset.csv\", sep=\",\", index=False, encoding='utf-8-sig')\n",
    "tweets.to_parquet(\"naive_bayes_dataset.parquet\", index=False)\n"
   ]
  },
  {
   "cell_type": "code",
   "execution_count": 12,
   "metadata": {},
   "outputs": [
    {
     "data": {
      "text/html": [
       "<div>\n",
       "<style scoped>\n",
       "    .dataframe tbody tr th:only-of-type {\n",
       "        vertical-align: middle;\n",
       "    }\n",
       "\n",
       "    .dataframe tbody tr th {\n",
       "        vertical-align: top;\n",
       "    }\n",
       "\n",
       "    .dataframe thead th {\n",
       "        text-align: right;\n",
       "    }\n",
       "</style>\n",
       "<table border=\"1\" class=\"dataframe\">\n",
       "  <thead>\n",
       "    <tr style=\"text-align: right;\">\n",
       "      <th></th>\n",
       "      <th>Texto</th>\n",
       "      <th>emocao</th>\n",
       "    </tr>\n",
       "  </thead>\n",
       "  <tbody>\n",
       "    <tr>\n",
       "      <th>0</th>\n",
       "      <td>Estou de fora,</td>\n",
       "      <td>triste</td>\n",
       "    </tr>\n",
       "    <tr>\n",
       "      <th>1</th>\n",
       "      <td>Promessa não deu certo, partiu pra ameaça</td>\n",
       "      <td>triste</td>\n",
       "    </tr>\n",
       "    <tr>\n",
       "      <th>2</th>\n",
       "      <td>ver minha cidade dividida por causa do ego po...</td>\n",
       "      <td>triste</td>\n",
       "    </tr>\n",
       "    <tr>\n",
       "      <th>3</th>\n",
       "      <td>tô precisando, to meio</td>\n",
       "      <td>triste</td>\n",
       "    </tr>\n",
       "    <tr>\n",
       "      <th>4</th>\n",
       "      <td>É engraçado quando você namora por muito tempo...</td>\n",
       "      <td>triste</td>\n",
       "    </tr>\n",
       "  </tbody>\n",
       "</table>\n",
       "</div>"
      ],
      "text/plain": [
       "                                               Texto  emocao\n",
       "0                                    Estou de fora,   triste\n",
       "1        Promessa não deu certo, partiu pra ameaça    triste\n",
       "2   ver minha cidade dividida por causa do ego po...  triste\n",
       "3                            tô precisando, to meio   triste\n",
       "4  É engraçado quando você namora por muito tempo...  triste"
      ]
     },
     "execution_count": 12,
     "metadata": {},
     "output_type": "execute_result"
    }
   ],
   "source": [
    "tweets.head()"
   ]
  },
  {
   "cell_type": "code",
   "execution_count": null,
   "metadata": {},
   "outputs": [],
   "source": []
  }
 ],
 "metadata": {
  "kernelspec": {
   "display_name": "Python 3.9.12 ('fast')",
   "language": "python",
   "name": "python3"
  },
  "language_info": {
   "codemirror_mode": {
    "name": "ipython",
    "version": 3
   },
   "file_extension": ".py",
   "mimetype": "text/x-python",
   "name": "python",
   "nbconvert_exporter": "python",
   "pygments_lexer": "ipython3",
   "version": "3.9.12"
  },
  "orig_nbformat": 4,
  "vscode": {
   "interpreter": {
    "hash": "d0067ede7a6e73994e39246acd9e1f0672d1160e6473dfe982c0ca5351566aed"
   }
  }
 },
 "nbformat": 4,
 "nbformat_minor": 2
}
