{
 "cells": [
  {
   "cell_type": "code",
   "execution_count": 1,
   "metadata": {},
   "outputs": [],
   "source": [
    "# Rode o código se precisar instalar o snscrape\n",
    "#%pip install git+https://github.com/JustAnotherArchivist/snscrape.git\n",
    "\n",
    "# Rode esse código se precisar instalar o Pandas\n",
    "# !pip install pandas"
   ]
  },
  {
   "cell_type": "code",
   "execution_count": 1,
   "metadata": {},
   "outputs": [],
   "source": [
    "# Imports\n",
    "import snscrape.modules.twitter as sntwitter\n",
    "import pandas as pd\n",
    "import datetime as dt\n"
   ]
  },
  {
   "cell_type": "code",
   "execution_count": 2,
   "metadata": {},
   "outputs": [],
   "source": [
    "def ScrapTweets(max_tweets: int, search_string: str):\n",
    "    # Definindo o máximo de tweets\n",
    "    maxTweets = max_tweets\n",
    "\n",
    "    # Criando a lista para salvar os dados\n",
    "    tweets_list = []\n",
    "\n",
    "    # Usando o TwitterSearchScraper para fazer o scrape dos dados data e salvar em uma lista\n",
    "    for i, tweet in enumerate(\n",
    "        sntwitter.TwitterSearchScraper(search_string).get_items()\n",
    "    ):\n",
    "        if i > maxTweets:\n",
    "            break\n",
    "        tweets_list.append(\n",
    "            [\n",
    "                tweet.id,\n",
    "                tweet.date,\n",
    "                tweet.rawContent,\n",
    "                tweet.lang,\n",
    "            ]\n",
    "        )\n",
    "    # Criando um dataframe com os dados\n",
    "    tweets_df = pd.DataFrame(\n",
    "        tweets_list,\n",
    "        columns=[\n",
    "            \"TweetId\",\n",
    "            \"DataHora\",\n",
    "            \"Texto\",\n",
    "            \"Idioma\",\n",
    "        ],\n",
    "    )\n",
    "    # Adicionando a coluna de data, mês e hora\n",
    "    tweets_df[\"dia\"] = tweets_df.DataHora.dt.day\n",
    "    tweets_df[\"mes\"] = tweets_df.DataHora.dt.month\n",
    "    tweets_df[\"ano\"] = tweets_df.DataHora.dt.year\n",
    "\n",
    "    return tweets_df\n"
   ]
  },
  {
   "cell_type": "code",
   "execution_count": 38,
   "metadata": {},
   "outputs": [],
   "source": [
    "# Na string de busca você pode usar ou omitir os marcadores from e until\n",
    "# Exemplo:  'rockinrio from:anitta until:2020-07-31'\n",
    "\n",
    "tweets_triste = ScrapTweets(50000, \"#triste\")\n",
    "tweets_triste[\"emocao\"] = \"triste\"\n",
    "\n",
    "tweets_chateado = ScrapTweets(25000, \"#chateado\")\n",
    "tweets_chateado[\"emocao\"] = \"chateado\"\n",
    "\n",
    "tweets_chateada = ScrapTweets(25000, \"#chateada\")\n",
    "tweets_chateada[\"emocao\"] = \"chateado\"\n",
    "\n",
    "tweets_feliz = ScrapTweets(50000, \"#feliz\")\n",
    "tweets_feliz[\"emocao\"] = \"feliz\"\n",
    "\n",
    "tweets_amor = ScrapTweets(50000, \"#amor\")\n",
    "tweets_amor[\"emocao\"] = \"amor\"\n",
    "\n",
    "tweets_raiva = ScrapTweets(50000, \"#raiva\")\n",
    "tweets_raiva[\"emocao\"] = \"raiva\"\n",
    "\n",
    "tweets_inveja = ScrapTweets(50000, \"#inveja\")\n",
    "tweets_inveja[\"emocao\"] = \"inveja\"\n",
    "\n",
    "tweets_ironia = ScrapTweets(50000, \"#ironia\")\n",
    "tweets_ironia[\"emocao\"] = \"ironia\"\n",
    "\n",
    "tweets = pd.concat(\n",
    "    [\n",
    "        tweets_triste,\n",
    "        tweets_chateado,\n",
    "        tweets_chateada,\n",
    "        tweets_feliz,\n",
    "        tweets_amor,\n",
    "        tweets_raiva,\n",
    "        tweets_inveja,\n",
    "        tweets_ironia,\n",
    "    ]\n",
    ")\n",
    "\n",
    "# Exportar dataframe para CSV\n",
    "tweets.to_csv(\"text-query-tweets.csv\", sep=\",\", index=False)\n"
   ]
  }
 ],
 "metadata": {
  "kernelspec": {
   "display_name": "Python 3.9.12 ('fast')",
   "language": "python",
   "name": "python3"
  },
  "language_info": {
   "codemirror_mode": {
    "name": "ipython",
    "version": 3
   },
   "file_extension": ".py",
   "mimetype": "text/x-python",
   "name": "python",
   "nbconvert_exporter": "python",
   "pygments_lexer": "ipython3",
   "version": "3.9.12"
  },
  "orig_nbformat": 4,
  "vscode": {
   "interpreter": {
    "hash": "d0067ede7a6e73994e39246acd9e1f0672d1160e6473dfe982c0ca5351566aed"
   }
  }
 },
 "nbformat": 4,
 "nbformat_minor": 2
}
