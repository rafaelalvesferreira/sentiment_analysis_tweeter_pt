{
 "cells": [
  {
   "cell_type": "code",
   "execution_count": 1,
   "metadata": {},
   "outputs": [],
   "source": [
    "# Rode o código se precisar instalar o snscrape\n",
    "# !pip install git+https://github.com/JustAnotherArchivist/snscrape.git\n",
    "\n",
    "# Rode esse código se precisar instalar o Pandas\n",
    "# !pip install pandas"
   ]
  },
  {
   "cell_type": "code",
   "execution_count": 2,
   "metadata": {},
   "outputs": [],
   "source": [
    "# Imports\n",
    "import snscrape.modules.twitter as sntwitter\n",
    "import pandas as pd"
   ]
  },
  {
   "cell_type": "code",
   "execution_count": 3,
   "metadata": {},
   "outputs": [],
   "source": [
    "def ScrapTweets(max_tweets: int, search_string: str):\n",
    "    # Definindo o máximo de tweets\n",
    "    maxTweets = max_tweets\n",
    "\n",
    "    # Criando a lista para salvar os dados\n",
    "    tweets_list = []\n",
    "\n",
    "    # Usando o TwitterSearchScraper para fazer o scrape dos dados data e salvar em uma lista\n",
    "    for i,tweet in enumerate(sntwitter.TwitterSearchScraper(search_string).get_items()):\n",
    "        if i>maxTweets:\n",
    "            break\n",
    "        tweets_list.append([tweet.date,\n",
    "                            tweet.replyCount,\n",
    "                            tweet.retweetCount,\n",
    "                            tweet.likeCount,\n",
    "                            tweet.sourceLabel,\n",
    "                            tweet.rawContent,\n",
    "                            tweet.user.username])\n",
    "\n",
    "    return pd.DataFrame(tweets_list, columns=['Data e Hora',\n",
    "                                              'Reply Count',\n",
    "                                              'Retweet Cont',\n",
    "                                              'Like Count',\n",
    "                                              'Source',\n",
    "                                              'Texto',\n",
    "                                              'Usuario'])"
   ]
  },
  {
   "cell_type": "code",
   "execution_count": 7,
   "metadata": {},
   "outputs": [
    {
     "data": {
      "text/html": [
       "<div>\n",
       "<style scoped>\n",
       "    .dataframe tbody tr th:only-of-type {\n",
       "        vertical-align: middle;\n",
       "    }\n",
       "\n",
       "    .dataframe tbody tr th {\n",
       "        vertical-align: top;\n",
       "    }\n",
       "\n",
       "    .dataframe thead th {\n",
       "        text-align: right;\n",
       "    }\n",
       "</style>\n",
       "<table border=\"1\" class=\"dataframe\">\n",
       "  <thead>\n",
       "    <tr style=\"text-align: right;\">\n",
       "      <th></th>\n",
       "      <th>Data e Hora</th>\n",
       "      <th>Reply Count</th>\n",
       "      <th>Retweet Cont</th>\n",
       "      <th>Like Count</th>\n",
       "      <th>Source</th>\n",
       "      <th>Texto</th>\n",
       "      <th>Usuario</th>\n",
       "    </tr>\n",
       "  </thead>\n",
       "  <tbody>\n",
       "    <tr>\n",
       "      <th>0</th>\n",
       "      <td>2019-10-06 02:06:18+00:00</td>\n",
       "      <td>83</td>\n",
       "      <td>291</td>\n",
       "      <td>3826</td>\n",
       "      <td>Twitter for Android</td>\n",
       "      <td>Nossa musa lendária entra daqui a pouco no Pal...</td>\n",
       "      <td>Anitta</td>\n",
       "    </tr>\n",
       "    <tr>\n",
       "      <th>1</th>\n",
       "      <td>2019-10-06 01:40:55+00:00</td>\n",
       "      <td>327</td>\n",
       "      <td>2216</td>\n",
       "      <td>29420</td>\n",
       "      <td>Twitter for Android</td>\n",
       "      <td>Lights 💕 #AnittanoRockInRio #RockInRio https:/...</td>\n",
       "      <td>Anitta</td>\n",
       "    </tr>\n",
       "    <tr>\n",
       "      <th>2</th>\n",
       "      <td>2019-10-05 22:32:30+00:00</td>\n",
       "      <td>586</td>\n",
       "      <td>978</td>\n",
       "      <td>12777</td>\n",
       "      <td>Twitter for Android</td>\n",
       "      <td>RAINHA FAZ ASSIM, NASCE PRONTA! O que vocês ac...</td>\n",
       "      <td>Anitta</td>\n",
       "    </tr>\n",
       "    <tr>\n",
       "      <th>3</th>\n",
       "      <td>2019-10-05 22:03:43+00:00</td>\n",
       "      <td>572</td>\n",
       "      <td>5534</td>\n",
       "      <td>34871</td>\n",
       "      <td>Twitter for Android</td>\n",
       "      <td>\"Não custa nada sonhar alto pra caramba.\" 2013...</td>\n",
       "      <td>Anitta</td>\n",
       "    </tr>\n",
       "    <tr>\n",
       "      <th>4</th>\n",
       "      <td>2019-10-05 21:00:42+00:00</td>\n",
       "      <td>149</td>\n",
       "      <td>677</td>\n",
       "      <td>7432</td>\n",
       "      <td>Twitter for Android</td>\n",
       "      <td>Vai começar, Brasil! Vai ter funk no @RockInRI...</td>\n",
       "      <td>Anitta</td>\n",
       "    </tr>\n",
       "  </tbody>\n",
       "</table>\n",
       "</div>"
      ],
      "text/plain": [
       "                Data e Hora  Reply Count  Retweet Cont  Like Count  \\\n",
       "0 2019-10-06 02:06:18+00:00           83           291        3826   \n",
       "1 2019-10-06 01:40:55+00:00          327          2216       29420   \n",
       "2 2019-10-05 22:32:30+00:00          586           978       12777   \n",
       "3 2019-10-05 22:03:43+00:00          572          5534       34871   \n",
       "4 2019-10-05 21:00:42+00:00          149           677        7432   \n",
       "\n",
       "                Source                                              Texto  \\\n",
       "0  Twitter for Android  Nossa musa lendária entra daqui a pouco no Pal...   \n",
       "1  Twitter for Android  Lights 💕 #AnittanoRockInRio #RockInRio https:/...   \n",
       "2  Twitter for Android  RAINHA FAZ ASSIM, NASCE PRONTA! O que vocês ac...   \n",
       "3  Twitter for Android  \"Não custa nada sonhar alto pra caramba.\" 2013...   \n",
       "4  Twitter for Android  Vai começar, Brasil! Vai ter funk no @RockInRI...   \n",
       "\n",
       "  Usuario  \n",
       "0  Anitta  \n",
       "1  Anitta  \n",
       "2  Anitta  \n",
       "3  Anitta  \n",
       "4  Anitta  "
      ]
     },
     "execution_count": 7,
     "metadata": {},
     "output_type": "execute_result"
    }
   ],
   "source": [
    "# Na string de busca você pode usar ou omitir os marcadores from e until\n",
    "# Exemplo:  'rockinrio from:anitta until:2020-07-31'\n",
    "\n",
    "tweets = ScrapTweets(10000, 'rockinrio from:anitta until:2020-07-31')\n",
    "\n",
    "tweets.head()\n"
   ]
  },
  {
   "cell_type": "code",
   "execution_count": null,
   "metadata": {},
   "outputs": [],
   "source": [
    "# Exportar dataframe para CSV\n",
    "tweets.to_csv('text-query-tweets.csv', sep=',', index=False)"
   ]
  }
 ],
 "metadata": {
  "kernelspec": {
   "display_name": "Python 3.9.12 ('fast')",
   "language": "python",
   "name": "python3"
  },
  "language_info": {
   "codemirror_mode": {
    "name": "ipython",
    "version": 3
   },
   "file_extension": ".py",
   "mimetype": "text/x-python",
   "name": "python",
   "nbconvert_exporter": "python",
   "pygments_lexer": "ipython3",
   "version": "3.9.12"
  },
  "orig_nbformat": 4,
  "vscode": {
   "interpreter": {
    "hash": "d0067ede7a6e73994e39246acd9e1f0672d1160e6473dfe982c0ca5351566aed"
   }
  }
 },
 "nbformat": 4,
 "nbformat_minor": 2
}
